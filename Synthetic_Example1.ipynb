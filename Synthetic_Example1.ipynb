{
 "cells": [
  {
   "cell_type": "code",
   "execution_count": null,
   "metadata": {
    "colab": {
     "base_uri": "https://localhost:8080/"
    },
    "executionInfo": {
     "elapsed": 8104,
     "status": "ok",
     "timestamp": 1746877604780,
     "user": {
      "displayName": "Xiong Wen KE",
      "userId": "17385421646168083201"
     },
     "user_tz": -180
    },
    "id": "CFZoWXnmBAeS",
    "outputId": "e8cc7b6c-b7b7-441c-ecfe-823af2d66332"
   },
   "outputs": [],
   "source": [
    "from google.colab import drive\n",
    "drive.mount('/content/drive/')"
   ]
  },
  {
   "cell_type": "code",
   "execution_count": null,
   "metadata": {
    "colab": {
     "base_uri": "https://localhost:8080/"
    },
    "executionInfo": {
     "elapsed": 670,
     "status": "ok",
     "timestamp": 1746877612073,
     "user": {
      "displayName": "Xiong Wen KE",
      "userId": "17385421646168083201"
     },
     "user_tz": -180
    },
    "id": "aID6fJk3BB3U",
    "outputId": "32c96c1a-7b28-43d3-a01b-b1a32d4aaebd"
   },
   "outputs": [],
   "source": [
    "import os\n",
    "os.chdir(\"/content/drive/MyDrive/Colab Notebooks/Bayes_FM\")\n",
    "os.listdir()"
   ]
  },
  {
   "cell_type": "code",
   "execution_count": null,
   "metadata": {
    "executionInfo": {
     "elapsed": 7629,
     "status": "ok",
     "timestamp": 1746877633680,
     "user": {
      "displayName": "Xiong Wen KE",
      "userId": "17385421646168083201"
     },
     "user_tz": -180
    },
    "id": "pG2M41RIc9kq"
   },
   "outputs": [],
   "source": [
    "import numpy as np\n",
    "import torch\n",
    "import matplotlib.pyplot as plt\n",
    "from scipy.stats import uniform\n",
    "from BFM.MCMC import Gibbs_sampling\n",
    "from BFM.VI import NGVI"
   ]
  },
  {
   "cell_type": "code",
   "execution_count": null,
   "metadata": {
    "executionInfo": {
     "elapsed": 7,
     "status": "ok",
     "timestamp": 1746877639573,
     "user": {
      "displayName": "Xiong Wen KE",
      "userId": "17385421646168083201"
     },
     "user_tz": -180
    },
    "id": "xuoRIO46c9ks"
   },
   "outputs": [],
   "source": [
    "device1 = torch.device(\"cuda:0\" if torch.cuda.is_available() else \"cpu\")"
   ]
  },
  {
   "cell_type": "code",
   "execution_count": null,
   "metadata": {
    "executionInfo": {
     "elapsed": 7,
     "status": "ok",
     "timestamp": 1746877644927,
     "user": {
      "displayName": "Xiong Wen KE",
      "userId": "17385421646168083201"
     },
     "user_tz": -180
    },
    "id": "Jq86yPfIc9kt"
   },
   "outputs": [],
   "source": [
    "P = 1000\n",
    "K = 5\n",
    "N = 500"
   ]
  },
  {
   "cell_type": "code",
   "execution_count": null,
   "metadata": {
    "executionInfo": {
     "elapsed": 21,
     "status": "ok",
     "timestamp": 1746877650240,
     "user": {
      "displayName": "Xiong Wen KE",
      "userId": "17385421646168083201"
     },
     "user_tz": -180
    },
    "id": "wKq_C5f7c9kt"
   },
   "outputs": [],
   "source": [
    "B_0 = np.random.binomial(1,1/3,(P,K)) * np.random.rand(P,K)\n",
    "sigma2_0 = np.diag(uniform.rvs(loc = 0.1, scale = 0.9, size = P))\n",
    "cov_0 = B_0 @ B_0.T + sigma2_0"
   ]
  },
  {
   "cell_type": "code",
   "execution_count": null,
   "metadata": {
    "executionInfo": {
     "elapsed": 1146,
     "status": "ok",
     "timestamp": 1746877652620,
     "user": {
      "displayName": "Xiong Wen KE",
      "userId": "17385421646168083201"
     },
     "user_tz": -180
    },
    "id": "Fn9JVWY7c9kt"
   },
   "outputs": [],
   "source": [
    "X = np.random.multivariate_normal(np.zeros(P), cov_0, N)"
   ]
  },
  {
   "cell_type": "code",
   "execution_count": null,
   "metadata": {
    "colab": {
     "base_uri": "https://localhost:8080/",
     "height": 545
    },
    "executionInfo": {
     "elapsed": 1635,
     "status": "ok",
     "timestamp": 1746877655143,
     "user": {
      "displayName": "Xiong Wen KE",
      "userId": "17385421646168083201"
     },
     "user_tz": -180
    },
    "id": "ZzqqN8Qrc9kt",
    "outputId": "baaf0f81-36b7-4138-cba7-89aafcec4fba"
   },
   "outputs": [],
   "source": [
    "plt.figure(figsize=(8, 6))\n",
    "plt.imshow(cov_0)\n",
    "plt.colorbar()\n",
    "plt.title(\"Covariance\")\n",
    "plt.show()"
   ]
  },
  {
   "cell_type": "code",
   "execution_count": null,
   "metadata": {
    "colab": {
     "background_save": true,
     "base_uri": "https://localhost:8080/"
    },
    "id": "3gHhevQRc9ku"
   },
   "outputs": [],
   "source": [
    "B_sample, sigma2_sample = Gibbs_sampling(torch.from_numpy(X).to(device1), 100)"
   ]
  },
  {
   "cell_type": "code",
   "execution_count": null,
   "metadata": {
    "id": "S3bbUW-mc9ku",
    "outputId": "fdc5cbfe-15c5-47b0-ec39-e13db65c822a"
   },
   "outputs": [],
   "source": [
    "mu, Precision, np_sigma = NGVI(torch.from_numpy(X).to(device1), 100, 1000)"
   ]
  },
  {
   "cell_type": "code",
   "execution_count": null,
   "metadata": {
    "id": "oNo49uwJc9ku"
   },
   "outputs": [],
   "source": [
    "B = mu @ mu.T + torch.diag(np_sigma / (0.5 * N))"
   ]
  },
  {
   "cell_type": "code",
   "execution_count": null,
   "metadata": {
    "id": "wH4GuPQUc9kv",
    "outputId": "3573684d-695f-4fca-97a3-612894f144b8"
   },
   "outputs": [],
   "source": [
    "plt.figure(figsize=(8, 6))\n",
    "plt.imshow(B.to('cpu'))\n",
    "plt.colorbar()\n",
    "plt.title(\"Covariance\")\n",
    "plt.show()"
   ]
  },
  {
   "cell_type": "code",
   "execution_count": null,
   "metadata": {
    "id": "pKhpgmjVc9kv",
    "outputId": "6769a5b9-3a49-420d-e66a-0682103f2c0b"
   },
   "outputs": [],
   "source": [
    "(torch.from_numpy(cov_0) - B.to('cpu')).square().sum()/P**2"
   ]
  },
  {
   "cell_type": "code",
   "execution_count": null,
   "metadata": {},
   "outputs": [],
   "source": [
    "(torch.from_numpy(cov_0) - B.to('cpu')).abs().sum()/P**2"
   ]
  },
  {
   "cell_type": "code",
   "execution_count": null,
   "metadata": {
    "id": "mIfYGTA7c9kv"
   },
   "outputs": [],
   "source": [
    "A = torch.einsum('bij,bjk->bik',B_sample, B_sample.transpose(1,2))\n",
    "for i in range(10000):\n",
    "    A[i] = A[i] + torch.diag(sigma2_sample[i])"
   ]
  },
  {
   "cell_type": "code",
   "execution_count": null,
   "metadata": {
    "id": "_S9M7C0-c9kw"
   },
   "outputs": [],
   "source": [
    "A_mean = A.mean(0)"
   ]
  },
  {
   "cell_type": "code",
   "execution_count": null,
   "metadata": {
    "id": "GC2a3390c9kw"
   },
   "outputs": [],
   "source": [
    "plt.figure(figsize=(8, 6))\n",
    "plt.imshow(A_mean)\n",
    "plt.colorbar()\n",
    "plt.title(\"Covariance\")\n",
    "plt.show()"
   ]
  },
  {
   "cell_type": "code",
   "execution_count": null,
   "metadata": {
    "id": "ujtlyn09c9kw"
   },
   "outputs": [],
   "source": [
    "(torch.from_numpy(cov_0) - A_mean).square().sum()/P**2"
   ]
  },
  {
   "cell_type": "code",
   "execution_count": null,
   "metadata": {
    "id": "0bg__SvAc9kw"
   },
   "outputs": [],
   "source": [
    "(torch.from_numpy(cov_0) - A_mean).abs().sum()/P**2"
   ]
  }
 ],
 "metadata": {
  "colab": {
   "name": "",
   "version": ""
  },
  "kernelspec": {
   "display_name": "base",
   "language": "python",
   "name": "python3"
  },
  "language_info": {
   "codemirror_mode": {
    "name": "ipython",
    "version": 3
   },
   "file_extension": ".py",
   "mimetype": "text/x-python",
   "name": "python",
   "nbconvert_exporter": "python",
   "pygments_lexer": "ipython3",
   "version": "3.12.2"
  }
 },
 "nbformat": 4,
 "nbformat_minor": 0
}
